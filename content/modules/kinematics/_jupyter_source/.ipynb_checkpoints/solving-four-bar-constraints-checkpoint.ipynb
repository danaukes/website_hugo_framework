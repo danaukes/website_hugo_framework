{
 "cells": [
  {
   "cell_type": "markdown",
   "metadata": {},
   "source": [
    "---\n",
    "title: Solving Four-Bar Constraints\n",
    "type: submodule\n",
    "---\n",
    "# Solving Four-Bar Constraints\n"
   ]
  },
  {
   "cell_type": "markdown",
   "metadata": {},
   "source": [
    "Turn on inline plotting"
   ]
  },
  {
   "cell_type": "code",
   "execution_count": 1,
   "metadata": {},
   "outputs": [],
   "source": [
    "%matplotlib inline"
   ]
  },
  {
   "cell_type": "markdown",
   "metadata": {},
   "source": [
    "import required packages"
   ]
  },
  {
   "cell_type": "code",
   "execution_count": 2,
   "metadata": {},
   "outputs": [],
   "source": [
    "import pynamics\n",
    "from pynamics.frame import Frame\n",
    "from pynamics.variable_types import Differentiable,Constant\n",
    "from pynamics.system import System\n",
    "from pynamics.body import Body\n",
    "from pynamics.dyadic import Dyadic\n",
    "from pynamics.output import Output,PointsOutput\n",
    "from pynamics.particle import Particle\n",
    "import pynamics.integration\n",
    "import sympy\n",
    "import numpy\n",
    "import matplotlib.pyplot as plt\n",
    "plt.ion()\n",
    "from math import pi\n",
    "from pynamics.constraint import Constraint"
   ]
  },
  {
   "cell_type": "markdown",
   "metadata": {},
   "source": [
    "Create a pynamics system"
   ]
  },
  {
   "cell_type": "code",
   "execution_count": 3,
   "metadata": {},
   "outputs": [],
   "source": [
    "system = System()\n",
    "pynamics.set_system(__name__,system)"
   ]
  },
  {
   "cell_type": "markdown",
   "metadata": {},
   "source": [
    "Declare constants"
   ]
  },
  {
   "cell_type": "code",
   "execution_count": 4,
   "metadata": {},
   "outputs": [],
   "source": [
    "lA = Constant(2,'lA',system)\n",
    "lB = Constant(1.5,'lB',system)\n",
    "lC = Constant(1,'lC',system)\n",
    "lD = Constant(1,'lD',system)"
   ]
  },
  {
   "cell_type": "markdown",
   "metadata": {},
   "source": [
    "Create three differentiable state variables"
   ]
  },
  {
   "cell_type": "code",
   "execution_count": 5,
   "metadata": {},
   "outputs": [],
   "source": [
    "qA,qA_d,qA_dd = Differentiable('qA',system)\n",
    "qB,qB_d,qB_dd = Differentiable('qB',system)\n",
    "qC,qC_d,qC_dd = Differentiable('qC',system)"
   ]
  },
  {
   "cell_type": "markdown",
   "metadata": {},
   "source": [
    "Create an initial guess for their starting positions.  Note that this is not necessarily accurate given the constraint that they are supposed to be connected with given, constant length.  We will use these initial values to seed the solver that will find a valid initial state"
   ]
  },
  {
   "cell_type": "code",
   "execution_count": 6,
   "metadata": {},
   "outputs": [],
   "source": [
    "initialvalues = {}\n",
    "initialvalues[qA]=-90*pi/180\n",
    "initialvalues[qA_d]=0*pi/180\n",
    "initialvalues[qB]=90*pi/180\n",
    "initialvalues[qB_d]=0*pi/180\n",
    "initialvalues[qC]=90*pi/180\n",
    "initialvalues[qC_d]=0*pi/180"
   ]
  },
  {
   "cell_type": "markdown",
   "metadata": {},
   "source": [
    "Retrieve state variables in the order they are stored in the system"
   ]
  },
  {
   "cell_type": "code",
   "execution_count": 7,
   "metadata": {},
   "outputs": [],
   "source": [
    "statevariables = system.get_state_variables()"
   ]
  },
  {
   "cell_type": "markdown",
   "metadata": {},
   "source": [
    "Create four frames"
   ]
  },
  {
   "cell_type": "code",
   "execution_count": 8,
   "metadata": {},
   "outputs": [],
   "source": [
    "N = Frame('N')\n",
    "A = Frame('A')\n",
    "B = Frame('B')\n",
    "C = Frame('C')"
   ]
  },
  {
   "cell_type": "markdown",
   "metadata": {},
   "source": [
    "Declare N as the Newtonian (fixed) frame"
   ]
  },
  {
   "cell_type": "code",
   "execution_count": 9,
   "metadata": {},
   "outputs": [],
   "source": [
    "system.set_newtonian(N)"
   ]
  },
  {
   "cell_type": "markdown",
   "metadata": {},
   "source": [
    "Rotate A,B, and C about their local Z axes."
   ]
  },
  {
   "cell_type": "code",
   "execution_count": 10,
   "metadata": {},
   "outputs": [],
   "source": [
    "A.rotate_fixed_axis_directed(N,[0,0,1],qA,system)\n",
    "B.rotate_fixed_axis_directed(A,[0,0,1],qB,system)\n",
    "C.rotate_fixed_axis_directed(B,[0,0,1],qC,system)"
   ]
  },
  {
   "cell_type": "markdown",
   "metadata": {},
   "source": [
    "Define vectors that will be used to solve for kinematics"
   ]
  },
  {
   "cell_type": "code",
   "execution_count": 11,
   "metadata": {},
   "outputs": [],
   "source": [
    "pNA=0*N.x\n",
    "pAB=pNA+lA*A.x\n",
    "pBC = pAB + lB*B.x\n",
    "pCtip = pBC + lC*C.x\n",
    "pD = lD*N.x"
   ]
  },
  {
   "cell_type": "markdown",
   "metadata": {},
   "source": [
    "Declare a list of points that will be used for plotting"
   ]
  },
  {
   "cell_type": "code",
   "execution_count": 12,
   "metadata": {},
   "outputs": [],
   "source": [
    "points = [pNA,pAB,pBC,pCtip]"
   ]
  },
  {
   "cell_type": "markdown",
   "metadata": {},
   "source": [
    "create a list of initial values ini0 in the order of the system's state variables"
   ]
  },
  {
   "cell_type": "code",
   "execution_count": 13,
   "metadata": {},
   "outputs": [],
   "source": [
    "statevariables = system.get_state_variables()\n",
    "ini0 = [initialvalues[item] for item in statevariables]"
   ]
  },
  {
   "cell_type": "markdown",
   "metadata": {},
   "source": [
    "Define the closed loop kinematics of the four bar linkage."
   ]
  },
  {
   "cell_type": "code",
   "execution_count": 14,
   "metadata": {},
   "outputs": [],
   "source": [
    "eq_vector = pCtip-pD"
   ]
  },
  {
   "cell_type": "markdown",
   "metadata": {},
   "source": [
    "Dot the vector equation with N.x and N.y to create two scalar equations.  This will remove two degrees of freedom from our system."
   ]
  },
  {
   "cell_type": "code",
   "execution_count": 15,
   "metadata": {},
   "outputs": [],
   "source": [
    "eq = []\n",
    "eq.append((eq_vector).dot(N.x))\n",
    "eq.append((eq_vector).dot(N.y))"
   ]
  },
  {
   "cell_type": "markdown",
   "metadata": {},
   "source": [
    "Take the derivative of the equations to linearize with regard to the velocity variables"
   ]
  },
  {
   "cell_type": "markdown",
   "metadata": {},
   "source": [
    "Solve for a valid initial state"
   ]
  },
  {
   "cell_type": "code",
   "execution_count": 17,
   "metadata": {},
   "outputs": [
    {
     "ename": "NameError",
     "evalue": "name 'variables' is not defined",
     "output_type": "error",
     "traceback": [
      "\u001b[1;31m---------------------------------------------------------------------------\u001b[0m",
      "\u001b[1;31mNameError\u001b[0m                                 Traceback (most recent call last)",
      "\u001b[1;32m<ipython-input-17-b4849bb4df58>\u001b[0m in \u001b[0;36m<module>\u001b[1;34m\u001b[0m\n\u001b[0;32m     12\u001b[0m \u001b[0meq\u001b[0m \u001b[1;33m=\u001b[0m \u001b[0mnumpy\u001b[0m\u001b[1;33m.\u001b[0m\u001b[0marray\u001b[0m\u001b[1;33m(\u001b[0m\u001b[0meq\u001b[0m\u001b[1;33m)\u001b[0m\u001b[1;33m\u001b[0m\u001b[1;33m\u001b[0m\u001b[0m\n\u001b[0;32m     13\u001b[0m \u001b[0merror\u001b[0m \u001b[1;33m=\u001b[0m \u001b[1;33m(\u001b[0m\u001b[0meq\u001b[0m\u001b[1;33m**\u001b[0m\u001b[1;36m2\u001b[0m\u001b[1;33m)\u001b[0m\u001b[1;33m.\u001b[0m\u001b[0msum\u001b[0m\u001b[1;33m(\u001b[0m\u001b[1;33m)\u001b[0m\u001b[1;33m\u001b[0m\u001b[1;33m\u001b[0m\u001b[0m\n\u001b[1;32m---> 14\u001b[1;33m \u001b[0mf\u001b[0m \u001b[1;33m=\u001b[0m \u001b[0msympy\u001b[0m\u001b[1;33m.\u001b[0m\u001b[0mlambdify\u001b[0m\u001b[1;33m(\u001b[0m\u001b[0mvariables\u001b[0m\u001b[1;33m,\u001b[0m\u001b[0merror\u001b[0m\u001b[1;33m)\u001b[0m\u001b[1;33m\u001b[0m\u001b[1;33m\u001b[0m\u001b[0m\n\u001b[0m\u001b[0;32m     15\u001b[0m \u001b[1;32mdef\u001b[0m \u001b[0mfunction\u001b[0m\u001b[1;33m(\u001b[0m\u001b[0margs\u001b[0m\u001b[1;33m)\u001b[0m\u001b[1;33m:\u001b[0m\u001b[1;33m\u001b[0m\u001b[1;33m\u001b[0m\u001b[0m\n\u001b[0;32m     16\u001b[0m     \u001b[1;32mreturn\u001b[0m \u001b[0mf\u001b[0m\u001b[1;33m(\u001b[0m\u001b[1;33m*\u001b[0m\u001b[0margs\u001b[0m\u001b[1;33m)\u001b[0m\u001b[1;33m\u001b[0m\u001b[1;33m\u001b[0m\u001b[0m\n",
      "\u001b[1;31mNameError\u001b[0m: name 'variables' is not defined"
     ]
    }
   ],
   "source": [
    "qi = [qA]\n",
    "qd = [qB,qC]\n",
    "\n",
    "guess = [initialvalues[item] for item in qd]\n",
    "\n",
    "constants = system.constant_values.copy()\n",
    "defined = dict([(item,initialvalues[item]) for item in qi])\n",
    "constants.update(defined)\n",
    "\n",
    "import scipy.optimize\n",
    "eq = [item.subs(constants) for item in eq]\n",
    "eq = numpy.array(eq)\n",
    "error = (eq**2).sum()\n",
    "f = sympy.lambdify(qd,error)\n",
    "def function(args):\n",
    "    return f(*args)\n",
    "result = scipy.optimize.minimize(function,guess)\n",
    "if result.fun>tol:\n",
    "    raise(Exception(\"out of tolerance\"))\n",
    "\n",
    "ini = []\n",
    "for item in system.get_state_variables():\n",
    "    if item in qd:\n",
    "        ini.append(result.x[qd.index(item)])\n",
    "    else:\n",
    "        ini.append(initialvalues[item])\n",
    "        \n",
    "points = PointsOutput(points, constant_values=system.constant_values)\n",
    "points.calc(numpy.array([ini0,ini]))\n",
    "points.plot_time()\n",
    "\n",
    "result.fun"
   ]
  },
  {
   "cell_type": "code",
   "execution_count": null,
   "metadata": {},
   "outputs": [],
   "source": []
  },
  {
   "cell_type": "markdown",
   "metadata": {},
   "source": [
    "Now, given a valid configuration, solve for the linearized, velocity-based constraint equation.  If \n",
    "$$eq = \\textbf{A} q_i + \\textbf{B} q_d = 0$$\n",
    "then, solving for $q_d$, \n",
    "$$-\\textbf{B}q_d = \\textbf{A}q_i$$\n",
    "$$q_d = -\\textbf{B}^{-1}\\textbf{A}q_i$$"
   ]
  },
  {
   "cell_type": "code",
   "execution_count": null,
   "metadata": {
    "scrolled": true
   },
   "outputs": [],
   "source": [
    "eq_d = sympy.Matrix(eq_d)\n",
    "qi = sympy.Matrix([qA_d])\n",
    "qd = sympy.Matrix([qB_d,qC_d])\n",
    "\n",
    "A = eq_d.jacobian(qi)\n",
    "B = eq_d.jacobian(qd)\n",
    "\n",
    "J = -B.inv()*A\n",
    "J"
   ]
  },
  {
   "cell_type": "markdown",
   "metadata": {},
   "source": [
    "That expression is quite long.  We can use the simplify function provided by sympy to shorten the expression:"
   ]
  },
  {
   "cell_type": "code",
   "execution_count": null,
   "metadata": {},
   "outputs": [],
   "source": [
    "J.simplify()\n",
    "J"
   ]
  },
  {
   "cell_type": "markdown",
   "metadata": {},
   "source": [
    "Solving for the dependent variables $q_d$:"
   ]
  },
  {
   "cell_type": "code",
   "execution_count": null,
   "metadata": {},
   "outputs": [],
   "source": [
    "qd2 = J*qi\n",
    "qd2"
   ]
  },
  {
   "cell_type": "markdown",
   "metadata": {},
   "source": [
    "Now we can create a substitution dictionary to replace all occurrances of $\\dot{q}_b$ and  $\\dot{q}_c$"
   ]
  },
  {
   "cell_type": "code",
   "execution_count": null,
   "metadata": {},
   "outputs": [],
   "source": [
    "subs = dict([(ii,jj) for ii,jj in zip(qd,qd2)])\n",
    "subs"
   ]
  },
  {
   "cell_type": "markdown",
   "metadata": {},
   "source": [
    "This cell is not currently used"
   ]
  },
  {
   "cell_type": "raw",
   "metadata": {},
   "source": [
    "mA = Constant(1,'mA',system)\n",
    "mB = Constant(1,'mB',system)\n",
    "mC = Constant(1,'mC',system)\n",
    "g = Constant(9.81,'g',system)\n",
    "b = Constant(1e0,'b',system)\n",
    "k = Constant(1e1,'k',system)\n",
    "\n",
    "preload1 = Constant(0*pi/180,'preload1',system)\n",
    "preload2 = Constant(0*pi/180,'preload2',system)\n",
    "preload3 = Constant(0*pi/180,'preload3',system)\n",
    "\n",
    "Ixx_A = Constant(1,'Ixx_A',system)\n",
    "Iyy_A = Constant(1,'Iyy_A',system)\n",
    "Izz_A = Constant(1,'Izz_A',system)\n",
    "Ixx_B = Constant(1,'Ixx_B',system)\n",
    "Iyy_B = Constant(1,'Iyy_B',system)\n",
    "Izz_B = Constant(1,'Izz_B',system)\n",
    "Ixx_C = Constant(1,'Ixx_C',system)\n",
    "Iyy_C = Constant(1,'Iyy_C',system)\n",
    "Izz_C = Constant(1,'Izz_C',system)"
   ]
  },
  {
   "cell_type": "raw",
   "metadata": {},
   "source": [
    "eq_d=[(system.derivative(item)) for item in eq]"
   ]
  },
  {
   "cell_type": "raw",
   "metadata": {},
   "source": [
    "eq_dd=[(system.derivative(item)) for item in eq_d]"
   ]
  },
  {
   "cell_type": "markdown",
   "metadata": {},
   "source": [
    "This cell is not currently used"
   ]
  },
  {
   "cell_type": "raw",
   "metadata": {},
   "source": [
    "tinitial = 0\n",
    "tfinal = 5\n",
    "tstep = 1/30\n",
    "t = numpy.r_[tinitial:tfinal:tstep]"
   ]
  },
  {
   "cell_type": "markdown",
   "metadata": {},
   "source": [
    "This cell is not currently used"
   ]
  },
  {
   "cell_type": "code",
   "execution_count": null,
   "metadata": {},
   "outputs": [],
   "source": [
    "# pAcm=pNA+lA/2*A.x\n",
    "# pBcm=pAB+lB/2*B.x\n",
    "# pCcm=pBC+lC/2*C.x\n",
    "\n",
    "# wNA = N.getw_(A)\n",
    "# wAB = A.getw_(B)\n",
    "# wBC = B.getw_(C)\n",
    "\n",
    "# IA = Dyadic.build(A,Ixx_A,Iyy_A,Izz_A)\n",
    "# IB = Dyadic.build(B,Ixx_B,Iyy_B,Izz_B)\n",
    "# IC = Dyadic.build(C,Ixx_C,Iyy_C,Izz_C)\n",
    "\n",
    "# BodyA = Body('BodyA',A,pAcm,mA,IA,system)\n",
    "# BodyB = Body('BodyB',B,pBcm,mB,IB,system)\n",
    "# #BodyC = Body('BodyC',C,pCcm,mC,IC,system)\n",
    "# BodyC = Particle(pCcm,mC,'ParticleC',system)\n",
    "\n",
    "# system.addforce(-b*wNA,wNA)\n",
    "# system.addforce(-b*wAB,wAB)\n",
    "# system.addforce(-b*wBC,wBC)\n",
    "\n",
    "# system.add_spring_force1(k,(qA-preload1)*N.z,wNA) \n",
    "# system.add_spring_force1(k,(qB-preload2)*A.z,wAB)\n",
    "# system.add_spring_force1(k,(qC-preload3)*B.z,wBC)\n",
    "\n",
    "# system.addforcegravity(-g*N.y)\n",
    "\n",
    "# vCtip = pCtip.time_derivative(N,system)\n",
    "\n",
    "\n",
    "\n",
    "\n",
    "# f,ma = system.getdynamics()\n",
    "# dyn = sympy.Matrix(f)-sympy.Matrix(ma)\n",
    "# eq_dd = sympy.Matrix(eq_dd)\n",
    "\n",
    "\n",
    "# A_new = A+(B*D.inv()*C)\n",
    "# func1 = system.state_space_post_invert(f,ma,eq_dd)\n",
    "# states=pynamics.integration.integrate_odeint(func1,ini,t,rtol=1e-12,atol=1e-12,hmin=1e-14, args=({'constants':system.constant_values},))\n",
    "\n",
    "# KE = system.get_KE()\n",
    "# PE = system.getPEGravity(pNA) - system.getPESprings()\n",
    "\n",
    "# points = [pNA,pAB,pBC,pCtip]\n",
    "# #points = [item for item2 in points for item in [item2.dot(system.newtonian.x),item2.dot(system.newtonian.y)]]\n",
    "# points_output = PointsOutput(points,system)\n",
    "# y = points_output.calc(states)\n",
    "# #y.resize(y.shape[0],int(y.shape[1]/2),2)\n",
    "\n",
    "# plt.figure()\n",
    "# plt.plot(t,states[:,:3])\n",
    "\n",
    "# plt.figure()\n",
    "# plt.plot(*(y[::int(len(y)/20)].T))\n",
    "# plt.axis('equal')\n",
    "\n",
    "# energy_output = Output([KE-PE],system)\n",
    "# energy_output.calc(states)\n",
    "\n",
    "# plt.figure()\n",
    "# plt.plot(energy_output.y)\n",
    "\n",
    "# points_output.animate(fps = 30,movie_name = 'render.mp4',lw=2)\n",
    "# #a()"
   ]
  }
 ],
 "metadata": {
  "kernelspec": {
   "display_name": "Python 3",
   "language": "python",
   "name": "python3"
  },
  "language_info": {
   "codemirror_mode": {
    "name": "ipython",
    "version": 3
   },
   "file_extension": ".py",
   "mimetype": "text/x-python",
   "name": "python",
   "nbconvert_exporter": "python",
   "pygments_lexer": "ipython3",
   "version": "3.8.5"
  }
 },
 "nbformat": 4,
 "nbformat_minor": 4
}
